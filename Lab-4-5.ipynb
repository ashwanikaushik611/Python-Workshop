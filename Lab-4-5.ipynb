{
 "cells": [
  {
   "cell_type": "code",
   "execution_count": null,
   "metadata": {},
   "outputs": [],
   "source": [
    "#Q1\n",
    "a=(\"Hi\")"
   ]
  },
  {
   "cell_type": "code",
   "execution_count": 1,
   "metadata": {},
   "outputs": [
    {
     "name": "stdout",
     "output_type": "stream",
     "text": [
      "('Hi', 2, 2.3)\n"
     ]
    }
   ],
   "source": [
    "#Q2\n",
    "a=(\"Hi\",2,2.3)\n",
    "print(a)"
   ]
  },
  {
   "cell_type": "code",
   "execution_count": 2,
   "metadata": {},
   "outputs": [
    {
     "name": "stdout",
     "output_type": "stream",
     "text": [
      "1\n"
     ]
    }
   ],
   "source": [
    "#Q3\n",
    "\n",
    "a=(1,3,4,12)\n",
    "print(a[0])"
   ]
  },
  {
   "cell_type": "code",
   "execution_count": 7,
   "metadata": {},
   "outputs": [
    {
     "name": "stdout",
     "output_type": "stream",
     "text": [
      "Enter Number to add in the Tuple:234\n",
      "(1, 4, 5, 12, 34, 234)\n"
     ]
    }
   ],
   "source": [
    "#Q5\n",
    "\n",
    "a=(1,4,5,12,34)\n",
    "x=int(input(\"Enter Number to add in the Tuple:\"))\n",
    "\n",
    "a=a+(x,)\n",
    "\n",
    "print(a)"
   ]
  },
  {
   "cell_type": "code",
   "execution_count": 2,
   "metadata": {},
   "outputs": [
    {
     "name": "stdout",
     "output_type": "stream",
     "text": [
      "HiAyush\n"
     ]
    }
   ],
   "source": [
    "#Q6\n",
    "\n",
    "tup=(\"Hi\",\"Ayush\")\n",
    "str=''.join(tup)\n",
    "print(str)"
   ]
  },
  {
   "cell_type": "code",
   "execution_count": 3,
   "metadata": {},
   "outputs": [
    {
     "name": "stdout",
     "output_type": "stream",
     "text": [
      "4\n"
     ]
    }
   ],
   "source": [
    "#Q7\n",
    "\n",
    "tup=(1,2,3,4,5,6,7,8,9,10)\n",
    "print(tup[3])\n"
   ]
  },
  {
   "cell_type": "code",
   "execution_count": 4,
   "metadata": {},
   "outputs": [
    {
     "name": "stdout",
     "output_type": "stream",
     "text": [
      "Element 1 found\n",
      "Element 1 found\n"
     ]
    }
   ],
   "source": [
    "#Q9\n",
    "\n",
    "tup=(1,2,3,4,1)\n",
    "a=tup[0]\n",
    "for i in tup:\n",
    "    if i==a:\n",
    "        print(\"Element\",a,\"found\")\n",
    "    else:\n",
    "        continue"
   ]
  },
  {
   "cell_type": "code",
   "execution_count": 5,
   "metadata": {},
   "outputs": [
    {
     "name": "stdout",
     "output_type": "stream",
     "text": [
      "Enter a Number:2\n",
      "Yes 2 is present\n"
     ]
    }
   ],
   "source": [
    "#Q10\n",
    "\n",
    "tup=(1,2,3,4,5)\n",
    "x=int(input(\"Enter a Number:\"))\n",
    "\n",
    "for i in tup:\n",
    "    if i==x:\n",
    "        print(\"Yes\",x,\"is present\")\n",
    "    else:\n",
    "        continue"
   ]
  },
  {
   "cell_type": "code",
   "execution_count": 6,
   "metadata": {},
   "outputs": [
    {
     "name": "stdout",
     "output_type": "stream",
     "text": [
      "(1, 1, 2, 3)\n"
     ]
    }
   ],
   "source": [
    "#Q11\n",
    "\n",
    "list=[1,1,2,3]\n",
    "tup=tuple(list)\n",
    "print(tup)"
   ]
  },
  {
   "cell_type": "code",
   "execution_count": 9,
   "metadata": {},
   "outputs": [
    {
     "name": "stdout",
     "output_type": "stream",
     "text": [
      "(1, 100, 123, 34, 78, 98)\n"
     ]
    }
   ],
   "source": [
    "#Q12\n",
    "\n",
    "tup=(1,100,123,4,34,78,98)\n",
    "tup=tup[:3]+tup[4:]\n",
    "print(tup)\n"
   ]
  },
  {
   "cell_type": "code",
   "execution_count": 10,
   "metadata": {},
   "outputs": [
    {
     "name": "stdout",
     "output_type": "stream",
     "text": [
      "(3, 5, 100, 45, 12, 65)\n"
     ]
    }
   ],
   "source": [
    "#Q13\n",
    "\n",
    "tup=(3,5,1,100,45,12,65)\n",
    "tup=tup[:2]+tup[3:]\n",
    "print(tup)"
   ]
  },
  {
   "cell_type": "code",
   "execution_count": 12,
   "metadata": {},
   "outputs": [
    {
     "name": "stdout",
     "output_type": "stream",
     "text": [
      "Enter Number to find Index:2\n",
      "Number 2 found at 2 location\n"
     ]
    }
   ],
   "source": [
    "#Q14\n",
    "\n",
    "tup=(2,5,12)\n",
    "x=int(input(\"Enter Number to find Index:\"))\n",
    "\n",
    "for i in tup:\n",
    "    if i==x:\n",
    "        print(\"Number\",x,\"found at\",i,\"location\")\n",
    "        \n",
    "    else:\n",
    "        continue"
   ]
  },
  {
   "cell_type": "code",
   "execution_count": 13,
   "metadata": {},
   "outputs": [
    {
     "name": "stdout",
     "output_type": "stream",
     "text": [
      "There are 4 elements\n"
     ]
    }
   ],
   "source": [
    "#Q15\n",
    "\n",
    "tup=(12,3,45,12)\n",
    "sum=0\n",
    "for i in tup:\n",
    "    sum=sum+1\n",
    "print(\"There are\",sum,\"elements\")"
   ]
  },
  {
   "cell_type": "markdown",
   "metadata": {},
   "source": []
  }
 ],
 "metadata": {
  "kernelspec": {
   "display_name": "Python 3",
   "language": "python",
   "name": "python3"
  },
  "language_info": {
   "codemirror_mode": {
    "name": "ipython",
    "version": 3
   },
   "file_extension": ".py",
   "mimetype": "text/x-python",
   "name": "python",
   "nbconvert_exporter": "python",
   "pygments_lexer": "ipython3",
   "version": "3.7.4"
  }
 },
 "nbformat": 4,
 "nbformat_minor": 2
}
