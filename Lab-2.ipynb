{
 "cells": [
  {
   "cell_type": "code",
   "execution_count": 2,
   "metadata": {},
   "outputs": [
    {
     "name": "stdout",
     "output_type": "stream",
     "text": [
      "Enter Number:5\n",
      "Number 5 is Odd\n"
     ]
    }
   ],
   "source": [
    "#Q1\n",
    "\n",
    "n=int(input(\"Enter Number:\"))\n",
    "\n",
    "if n%2==0:\n",
    "    print(\"Number\",n,\"is Even\")\n",
    "else:\n",
    "    print(\"Number\",n,\"is Odd\")"
   ]
  },
  {
   "cell_type": "code",
   "execution_count": 3,
   "metadata": {},
   "outputs": [
    {
     "name": "stdout",
     "output_type": "stream",
     "text": [
      "Enter a YEAR:2000\n",
      "LEAP YEAR\n"
     ]
    }
   ],
   "source": [
    "#Q2\n",
    "\n",
    "n=int(input(\"Enter a YEAR:\"))\n",
    "\n",
    "if n%4==0:\n",
    "    if n%100==0:\n",
    "        if n%400==0:\n",
    "            print(\"LEAP YEAR\")\n",
    "    else:\n",
    "        print(\"NON Leap Year\")\n",
    "\n",
    "else:\n",
    "    print(\"NON Leap Year\")\n"
   ]
  },
  {
   "cell_type": "code",
   "execution_count": 5,
   "metadata": {},
   "outputs": [
    {
     "name": "stdout",
     "output_type": "stream",
     "text": [
      "Enter a Character:f\n",
      "f is Non-Vowel\n"
     ]
    }
   ],
   "source": [
    "#Q3\n",
    "\n",
    "str=input(\"Enter a Character:\")\n",
    "\n",
    "if str=='a' or str=='e' or str=='i' or str=='o' or str=='u':\n",
    "    print(str,\"is a Vowel\")\n",
    "else:\n",
    "    print(str,\"is Non-Vowel\")"
   ]
  },
  {
   "cell_type": "code",
   "execution_count": 6,
   "metadata": {},
   "outputs": [
    {
     "name": "stdout",
     "output_type": "stream",
     "text": [
      "Enter First Number:2\n",
      "Enter Second Number:3\n",
      "2nd Number is Greater\n"
     ]
    }
   ],
   "source": [
    "#Q4\n",
    "\n",
    "n=int(input(\"Enter First Number:\"))\n",
    "n1=int(input(\"Enter Second Number:\"))\n",
    "\n",
    "if n>n1:\n",
    "    print(\"1st Number is Greater\")\n",
    "else:\n",
    "    print(\"2nd Number is Greater\")"
   ]
  },
  {
   "cell_type": "code",
   "execution_count": 8,
   "metadata": {},
   "outputs": [
    {
     "name": "stdout",
     "output_type": "stream",
     "text": [
      "Enter Number for Factorial:3\n",
      "Factorial of Number is: 6\n"
     ]
    }
   ],
   "source": [
    "#Q5\n",
    "\n",
    "n=int(input(\"Enter Number for Factorial:\"))\n",
    "\n",
    "for i in range(1,n):\n",
    "    i=i*n\n",
    "    \n",
    "print(\"Factorial of Number is:\",i)"
   ]
  },
  {
   "cell_type": "code",
   "execution_count": 10,
   "metadata": {},
   "outputs": [
    {
     "name": "stdout",
     "output_type": "stream",
     "text": [
      "Enter a Number:10\n",
      "10 is a Non-Prime Number\n"
     ]
    }
   ],
   "source": [
    "#Q8\n",
    "\n",
    "n=int(input(\"Enter a Number:\"))\n",
    "\n",
    "for i in range(2,n):\n",
    "    if n%i==0:\n",
    "        print(n,\"is a Non-Prime Number\")\n",
    "        break\n",
    "    if n%i!=0:\n",
    "        print(n,\"is a Prime Number\")\n",
    "        break"
   ]
  },
  {
   "cell_type": "code",
   "execution_count": 11,
   "metadata": {},
   "outputs": [
    {
     "name": "stdout",
     "output_type": "stream",
     "text": [
      "Enter Password1112\n",
      "1.SUM\n",
      "2.PRODUCT\n",
      "3.FACTORIAL\n",
      "4.DIFFERENCE\n",
      "5.DIVIDE\n",
      "6.LCM\n",
      "Enter Your Choice2\n",
      "Enter First Number:1\n",
      "Enter Second Number:10\n",
      "Sum is 10\n"
     ]
    }
   ],
   "source": [
    "#Q10\n",
    "\n",
    "def sum(x,y):\n",
    "    return x+y\n",
    "def product(x,y):\n",
    "    return x*y\n",
    "def fact(x):\n",
    "    fact=1\n",
    "    i=1\n",
    "    for i in range(1,x+1):\n",
    "        fact=fact*i\n",
    "    return fact\n",
    "\n",
    "def diff(x,y):\n",
    "    if x>y:\n",
    "        return x-y\n",
    "    else:\n",
    "        return y-x\n",
    "\n",
    "def div(x,y):\n",
    "    return float(x/y)\n",
    "\n",
    "def lcm(x,y):\n",
    "    if x>y:\n",
    "        z=z\n",
    "    else:\n",
    "        z=y\n",
    "\n",
    "    while True:\n",
    "        if z%x==0 and z%y==0:\n",
    "            lcm=z\n",
    "            break\n",
    "        z=z+1\n",
    "    return lcm\n",
    "\n",
    "\n",
    "\n",
    "    \n",
    "p=int(input(\"Enter Password\"))\n",
    "if p==1112:\n",
    "    print(\"1.SUM\")\n",
    "    print(\"2.PRODUCT\")\n",
    "    print(\"3.FACTORIAL\")\n",
    "    print(\"4.DIFFERENCE\")\n",
    "    print(\"5.DIVIDE\")\n",
    "    print(\"6.LCM\")\n",
    "    \n",
    "    n=int(input(\"Enter Your Choice\"))\n",
    "    if n==1:\n",
    "        a=int(input(\"Enter First Number:\"))\n",
    "        b=int(input(\"Enter Second Number:\"))\n",
    "        print(\"Sum is\",sum(a,b))\n",
    "    elif n==2:\n",
    "        a=int(input(\"Enter First Number:\"))\n",
    "        b=int(input(\"Enter Second Number:\"))\n",
    "        print(\"Sum is\",product(a,b))\n",
    "    elif n==3:\n",
    "        a=int(input(\"Enter Number:\"))\n",
    "        print(\"Factorial is\",fact(a))\n",
    "    elif n==4:\n",
    "        a=int(input(\"Enter First Number:\"))\n",
    "        b=int(input(\"Enter Second Number:\"))\n",
    "        print(\"Difference is\",diff(a,b))\n",
    "    elif n==5:\n",
    "        a=int(input(\"Enter First Number:\"))\n",
    "        b=int(input(\"Enter Second Number:\"))\n",
    "        print(\"Division is\",div(a,b))\n",
    "\n",
    "    elif n==6:\n",
    "        a=int(input(\"Enter First Number:\"))\n",
    "        b=int(input(\"Enter Second Number:\"))\n",
    "        print(\"LCM is\",lcm(a,b))\n",
    "else:\n",
    "    print(\"Invalid Password\")\n",
    "        \n"
   ]
  },
  {
   "cell_type": "code",
   "execution_count": null,
   "metadata": {},
   "outputs": [],
   "source": []
  }
 ],
 "metadata": {
  "kernelspec": {
   "display_name": "Python 3",
   "language": "python",
   "name": "python3"
  },
  "language_info": {
   "codemirror_mode": {
    "name": "ipython",
    "version": 3
   },
   "file_extension": ".py",
   "mimetype": "text/x-python",
   "name": "python",
   "nbconvert_exporter": "python",
   "pygments_lexer": "ipython3",
   "version": "3.7.4"
  }
 },
 "nbformat": 4,
 "nbformat_minor": 2
}
