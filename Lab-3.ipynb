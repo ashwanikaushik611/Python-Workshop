{
 "cells": [
  {
   "cell_type": "code",
   "execution_count": 6,
   "metadata": {},
   "outputs": [
    {
     "name": "stdout",
     "output_type": "stream",
     "text": [
      "Enter Range:11\n",
      "2\n",
      "4\n",
      "6\n",
      "8\n",
      "10\n"
     ]
    }
   ],
   "source": [
    "#Q2.Print 1st 5 even numbers (use break statement).\n",
    "\n",
    "n=int(input(\"Enter Range:\"))\n",
    "for i in range(1,n):\n",
    "    if i%2==0:\n",
    "        print(i)\n",
    "    if i%2!=0:\n",
    "        continue"
   ]
  },
  {
   "cell_type": "code",
   "execution_count": 7,
   "metadata": {},
   "outputs": [
    {
     "name": "stdout",
     "output_type": "stream",
     "text": [
      "Enter Range:9\n",
      "2\n",
      "4\n",
      "6\n",
      "8\n"
     ]
    }
   ],
   "source": [
    "#Q3.Print 1st 4 even numbers (use continue statement).\n",
    "\n",
    "n=int(input(\"Enter Range:\"))\n",
    "\n",
    "for i in range(1,n):\n",
    "    if i%2==0:\n",
    "        print(i)\n",
    "    if i%2!=0:\n",
    "        continue"
   ]
  },
  {
   "cell_type": "code",
   "execution_count": 6,
   "metadata": {},
   "outputs": [
    {
     "name": "stdout",
     "output_type": "stream",
     "text": [
      "5\n"
     ]
    }
   ],
   "source": [
    "#Q5.Write a Python program to calculate the length of a string.\n",
    "A=\"Hello\"\n",
    "count=0\n",
    "for i in A:\n",
    "    count=count+1\n",
    "print(count)\n"
   ]
  },
  {
   "cell_type": "code",
   "execution_count": 7,
   "metadata": {},
   "outputs": [
    {
     "name": "stdout",
     "output_type": "stream",
     "text": [
      "Number of A in String is 4\n"
     ]
    }
   ],
   "source": [
    "#Q6.Write a Python program to count the number of characters (character frequency) in a string\n",
    "\n",
    "A=\"Manav Rachna University\"\n",
    "count=0\n",
    "for i in A:\n",
    "    if i=='a':\n",
    "        count=count+1\n",
    "        \n",
    "print(\"Number of A in String is\",count)"
   ]
  },
  {
   "cell_type": "code",
   "execution_count": 12,
   "metadata": {},
   "outputs": [
    {
     "name": "stdout",
     "output_type": "stream",
     "text": [
      "Enter a String:Ayush\n",
      "Aysh\n"
     ]
    }
   ],
   "source": [
    "#Q7.Write a Python program to get a string made of the first 2 and the last 2 chars from a given a string. If the string length is less than 2, return instead of the empty string.\n",
    "\n",
    "str=input(\"Enter a String:\")\n",
    "len=len(str)\n",
    "\n",
    "if len<=2:\n",
    "    print(\"Not Valid\")\n",
    "else:\n",
    "    print(str[0]+str[1]+str[count-2]+str[count-1])"
   ]
  },
  {
   "cell_type": "code",
   "execution_count": null,
   "metadata": {},
   "outputs": [],
   "source": [
    "#Q8.Write a Python program to get a string from a given string where all occurrences of its first char have been changed to '$', except the first char itself#\n",
    "\n",
    "str=input(\"Enter a String:\")\n",
    "\n",
    "a=str[0]\n",
    "\n",
    "str1=str.replace(a,\"$\")\n",
    "\n",
    "print(\"Final String is\",a+str1[1:])        \n",
    "\n"
   ]
  },
  {
   "cell_type": "code",
   "execution_count": 2,
   "metadata": {},
   "outputs": [
    {
     "name": "stdout",
     "output_type": "stream",
     "text": [
      "Enter First String:Nanga\n",
      "Enter Second String:Punga\n",
      "Total String is Nanga Punga\n",
      "Final String after Replacement is Panga Nunga\n"
     ]
    }
   ],
   "source": [
    "#Q9.Write a Python program to get a single string from two given strings, separated by a space and swap the first two characters of each string. \n",
    "\n",
    "str=input(\"Enter First String:\")\n",
    "str1=input(\"Enter Second String:\")\n",
    "\n",
    "a=str+\" \"+str1\n",
    "print(\"Total String is\",a)\n",
    "\n",
    "b=str.replace(str[0],str1[0])\n",
    "c=str1.replace(str1[0],str[0])\n",
    "\n",
    "print(\"Final String after Replacement is\",b+' '+c)"
   ]
  },
  {
   "cell_type": "code",
   "execution_count": null,
   "metadata": {},
   "outputs": [],
   "source": [
    "#Q10.Write a Python program to add 'ing' at the end of a given string (length should be at least 3). If the given string already ends with 'ing' then add 'ly' instead. If the string length of the given string is less than 3, leave it unchanged\n",
    "\n",
    "str=input(\"Enter a String:\")\n",
    "str1=\"\"\n",
    "\n",
    "if len(str)<3:\n",
    "    print(\"No Change\")\n",
    "else:\n",
    "    if str[-3:]=='ing':\n",
    "        str1=str+'ly'\n",
    "    else:\n",
    "        str1=str+'ing'\n",
    "    \n",
    "print(str1)"
   ]
  },
  {
   "cell_type": "code",
   "execution_count": null,
   "metadata": {},
   "outputs": [],
   "source": []
  },
  {
   "cell_type": "code",
   "execution_count": null,
   "metadata": {},
   "outputs": [],
   "source": []
  }
 ],
 "metadata": {
  "kernelspec": {
   "display_name": "Python 3",
   "language": "python",
   "name": "python3"
  },
  "language_info": {
   "codemirror_mode": {
    "name": "ipython",
    "version": 3
   },
   "file_extension": ".py",
   "mimetype": "text/x-python",
   "name": "python",
   "nbconvert_exporter": "python",
   "pygments_lexer": "ipython3",
   "version": "3.7.4"
  }
 },
 "nbformat": 4,
 "nbformat_minor": 2
}
